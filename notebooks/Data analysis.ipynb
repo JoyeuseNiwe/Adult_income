{
  "cells": [
    {
      "cell_type": "markdown",
      "metadata": {},
      "source": [
        "# UCI Adult Income Dataset - Exploratory and Descriptive Analysis\n",
        "\n",
        "Joyeuse (Data Analyst)  \n",
        "2025-06-25\n",
        "\n",
        "In this notebook, we carry out an in-depth exploratory and descriptive\n",
        "analysis of the UCI Adult Income Dataset, a widely used dataset for\n",
        "income prediction tasks based on individual demographic and employment\n",
        "attributes.\n",
        "\n",
        "This phase of analysis is essential for uncovering patterns, detecting\n",
        "potential biases, and gaining intuition about the dataset’s structure\n",
        "before applying any modelling procedures. We examine the distribution of\n",
        "key numerical and categorical variables, investigate relationships\n",
        "between demographic features and income levels, and use visualizations\n",
        "to summarize insights. Particular focus is placed on income disparities\n",
        "across **age groups**, **geographical regions**, **races**, and\n",
        "**education-occupation combinations**, helping lay a solid foundation\n",
        "for downstream modeling and policy-relevant interpretation.\n",
        "\n",
        "We begin our analysis by importing the core Python libraries required\n",
        "for **data handling**, **numerical computation**, **visualization**, and\n",
        "**directory management**:\n",
        "\n",
        "-   `pandas`: Enables efficient manipulation, filtering, and aggregation\n",
        "    of structured tabular data, forming the backbone of our analysis\n",
        "    pipeline.\n",
        "\n",
        "-   `numpy`: Provides support for fast numerical operations, array-based\n",
        "    computation, and statistical routines.\n",
        "\n",
        "-   `os`: Facilitates interaction with the file system, allowing us to\n",
        "    construct flexible and portable directory paths for data and output\n",
        "    management.\n",
        "\n",
        "-   `plotly.express`: A high-level graphing library that enables the\n",
        "    creation of interactive, publication-quality visualizations, which\n",
        "    we use extensively to uncover patterns and present insights\n",
        "    throughout the notebook."
      ],
      "id": "c103d857-9b5f-4d57-bd01-e1e498a8e39c"
    },
    {
      "cell_type": "code",
      "execution_count": 1,
      "metadata": {},
      "outputs": [],
      "source": [
        "# Import libraries\n",
        "import os\n",
        "import pandas as pd\n",
        "import numpy as np\n",
        "import plotly.express as px"
      ],
      "id": "d16ce1cd"
    },
    {
      "cell_type": "markdown",
      "metadata": {},
      "source": [
        "## Define and Create Directory Paths\n",
        "\n",
        "To ensure reproducibility andorganized storage, we programmatically\n",
        "create directories if they don’t already exist for:\n",
        "\n",
        "-   **raw data**\n",
        "-   **processed data**\n",
        "-   **results**\n",
        "-   **documentation**\n",
        "\n",
        "These directories will store intermediate and final outputs for\n",
        "reproducibility.\n",
        "\n",
        "## Loading the Cleaned Dataset\n",
        "\n",
        "We load the cleaned version of the UCI Adult Income Dataset from the\n",
        "processed data directory into a Pandas DataFrame. The `head(10)`\n",
        "function shows the first ten records, giving a glimpse into the data\n",
        "columns such as `age`, `workclass`, `education_num`, etc.\n",
        "\n",
        "## Output\n",
        "\n",
        "``` python\n",
        "adult_data_filename = os.path.join(processed_dir, \"adult_cleaned.csv\")\n",
        "adult_df = pd.read_csv(adult_data_filename)\n",
        "adult_df.head(10)\n",
        "```\n",
        "\n",
        "<div>\n",
        "<style scoped>\n",
        "    .dataframe tbody tr th:only-of-type {\n",
        "        vertical-align: middle;\n",
        "    }\n",
        "\n",
        "    .dataframe tbody tr th {\n",
        "        vertical-align: top;\n",
        "    }\n",
        "\n",
        "    .dataframe thead th {\n",
        "        text-align: right;\n",
        "    }\n",
        "</style>\n",
        "\n",
        "|  | age | workclass | fnlwgt | education_num | marital_status | relationship | race | sex | capital_gain | capital_loss | hours_per_week | income | education_level | occupation_grouped | native_region | age_group |\n",
        "|----|----|----|----|----|----|----|----|----|----|----|----|----|----|----|----|----|\n",
        "| 0 | 39 | government | 77516 | 13 | single | single | white | male | 2174 | 0 | 40 | \\<=50k | tertiary | white collar | north america | 36-45 |\n",
        "| 1 | 50 | self-employed | 83311 | 13 | married | male spouse | white | male | 0 | 0 | 13 | \\<=50k | tertiary | white collar | north america | 46-60 |\n",
        "| 2 | 38 | private | 215646 | 9 | divorced or separated | single | white | male | 0 | 0 | 40 | \\<=50k | secondary-school graduate | blue collar | north america | 36-45 |\n",
        "| 3 | 53 | private | 234721 | 7 | married | male spouse | black | male | 0 | 0 | 40 | \\<=50k | secondary | blue collar | north america | 46-60 |\n",
        "| 4 | 28 | private | 338409 | 13 | married | female spouse | black | female | 0 | 0 | 40 | \\<=50k | tertiary | white collar | central america | 26-35 |\n",
        "| 5 | 37 | private | 284582 | 14 | married | female spouse | white | female | 0 | 0 | 40 | \\<=50k | tertiary | white collar | north america | 36-45 |\n",
        "| 6 | 49 | private | 160187 | 5 | divorced or separated | single | black | female | 0 | 0 | 16 | \\<=50k | secondary | service | central america | 46-60 |\n",
        "| 7 | 52 | self-employed | 209642 | 9 | married | male spouse | white | male | 0 | 0 | 45 | \\>50k | secondary-school graduate | white collar | north america | 46-60 |\n",
        "| 8 | 31 | private | 45781 | 14 | single | single | white | female | 14084 | 0 | 50 | \\>50k | tertiary | white collar | north america | 26-35 |\n",
        "| 9 | 42 | private | 159449 | 13 | married | male spouse | white | male | 5178 | 0 | 40 | \\>50k | tertiary | white collar | north america | 36-45 |\n",
        "\n",
        "Adult Income Dataset\n",
        "\n",
        "</div>\n",
        "\n",
        "## Code\n",
        "\n",
        "``` python\n",
        "adult_data_filename = os.path.join(processed_dir, \"adult_cleaned.csv\")\n",
        "adult_df = pd.read_csv(adult_data_filename)\n",
        "```\n",
        "\n",
        "## Dataset Dimensions and Data Types\n",
        "\n",
        "Here, we examine the structure of the dataset:\n",
        "\n",
        "-   There are *32,513* entries and *16* variables.\n",
        "-   The dataset includes both **numerical** (e.g., `age`,\n",
        "    `hours_per_week`) and **categorical** variables (e.g., `sex`,\n",
        "    `education_level`).\n",
        "\n",
        "Understanding data types and null entries is essential before proceeding\n",
        "with analysis."
      ],
      "id": "c2c920d0-4c31-424a-9a3f-c71111b483ec"
    },
    {
      "cell_type": "code",
      "execution_count": 7,
      "metadata": {},
      "outputs": [],
      "source": [
        "summary_df = pd.DataFrame({\n",
        "    'Column': adult_df.columns,\n",
        "    'Data Type': adult_df.dtypes.values,\n",
        "    'Missing Values': adult_df.isnull().sum().values\n",
        "})\n",
        "summary_df"
      ],
      "id": "56b404fb-a51a-4241-8917-e36a39384949"
    },
    {
      "cell_type": "markdown",
      "metadata": {},
      "source": [
        "## Summary Statistics: Numerical Variables"
      ],
      "id": "0b5e311b-fee1-4a16-9802-a0446cc695c0"
    },
    {
      "cell_type": "code",
      "execution_count": 8,
      "metadata": {},
      "outputs": [],
      "source": [
        "adult_df.describe()"
      ],
      "id": "92a92e80-1957-4fa6-83de-3ce26ffab575"
    },
    {
      "cell_type": "markdown",
      "metadata": {},
      "source": [
        "This summary provides a snapshot of key distribution characteristics. We\n",
        "see that:\n",
        "\n",
        "-   Age ranges from 17 to 90, with a mean of 38.6 years. It is slightly\n",
        "    right-skewed (positively skewed). While the average age is\n",
        "    approximately 38.6 years, an examination of the percentiles reveals\n",
        "    that the majority of individuals are clustered in the younger to\n",
        "    middle-age range, with fewer observations in the older age brackets.\n",
        "    This skewed age distribution might suggest labor force participation\n",
        "    is concentrated in specific age groups, which could reflect broader\n",
        "    demographic or economic realities.\n",
        "\n",
        "-   Capital gains/losses are highly skewed, with most values at 0 (the\n",
        "    75th percentile is 0). This indicates that a small number of\n",
        "    individuals report very large gains or losses, especially evident in\n",
        "    the capital gain variable which reaches up to \\$99,999. These\n",
        "    variables act as proxies for wealth-related income that goes beyond\n",
        "    regular wages or salaries. Individuals with non-zero values for\n",
        "    capital gains or losses often represent a distinct socioeconomic\n",
        "    subset of the population — typically more financially literate, or\n",
        "    with access to investment assets. The stark inequality in their\n",
        "    distributions mirrors real-world disparities in asset ownership and\n",
        "    investment returns.\n",
        "\n",
        "-   The dataset has individuals working anywhere from 1 to 99 hours per\n",
        "    week, with a median of 40. This aligns with the standard full-time\n",
        "    work week in many countries (8 hours per day for 5 working days).\n",
        "    The mean is slightly above that at 40.4 hours, suggesting a mild\n",
        "    right skew, with a small subset of individuals working significantly\n",
        "    longer hours. The mode is also 40, further reinforcing the\n",
        "    prevalence of full-time work. A non-trivial number of individuals\n",
        "    report working very few hours, possibly due to part-time work,\n",
        "    unemployment, or semi-retirement. On the other extreme, some report\n",
        "    working more than 45 hours per week, which may indicate multiple\n",
        "    jobs, weekend-work, self-employment, or informal labor, and could\n",
        "    reflect socioeconomic necessity.\n",
        "\n",
        "## Summary Statistics: Categorical Variables\n",
        "\n",
        "`workclass`"
      ],
      "id": "e1ba0f3b-629f-4ef6-b8e0-83a0a0b87dff"
    },
    {
      "cell_type": "code",
      "execution_count": 10,
      "metadata": {},
      "outputs": [],
      "source": [
        "adult_df['workclass'].value_counts(normalize=True).rename_axis('unique values').reset_index(name='proportion')"
      ],
      "id": "af3bdc76-29fe-42e2-ab23-20b400b204ce"
    },
    {
      "cell_type": "markdown",
      "metadata": {},
      "source": [
        "The private sector dominates, employing ~69.7% of the population. The\n",
        "government sector (13.4%) and self-employment (11.2%) also make up\n",
        "substantial portions of the workforce. A small fraction is labeled as\n",
        "“unknown” (5.6%), which may correspond to missing or ambiguous data\n",
        "entries. Tiny proportions are voluntary (0.04%) or unemployed (0.02%),\n",
        "possibly underreported or underrepresented in the sample.\n",
        "\n",
        "`marital_status`"
      ],
      "id": "6fba898d-e1b5-4411-be6a-ed3d8092ac3a"
    },
    {
      "cell_type": "code",
      "execution_count": 11,
      "metadata": {},
      "outputs": [],
      "source": [
        "adult_df['marital_status'].value_counts(normalize=True).rename_axis('unique values').reset_index(name='proportion')"
      ],
      "id": "e6ba7e1b-3650-420d-a2f2-090ab0f01890"
    },
    {
      "cell_type": "markdown",
      "metadata": {},
      "source": [
        "Married individuals make up the largest group (46.1%), followed by those\n",
        "who are single (32.8%) and divorced or separated (18.1%). Widowed\n",
        "individuals represent a small minority (~3.1%).\n",
        "\n",
        "`relationship`"
      ],
      "id": "b722b53e-9c47-4bb2-8cc0-bb5c1042eef2"
    },
    {
      "cell_type": "code",
      "execution_count": 12,
      "metadata": {},
      "outputs": [],
      "source": [
        "adult_df['relationship'].value_counts(normalize=True).rename_axis('unique values').reset_index(name='proportion')"
      ],
      "id": "cbabb81e-2070-4a3a-b736-374ca8c3cbf0"
    },
    {
      "cell_type": "markdown",
      "metadata": {},
      "source": [
        "The majority are labeled as “male spouse” (40.5%) or “single” (36.1%).\n",
        "Smaller categories include children (15.6%), female spouses (4.8%), and\n",
        "extended relatives (3.0%). The dominance of `male spouse` reflects the\n",
        "dataset’s gendered structure and may point to traditional family roles.\n",
        "The relative scarcity of “female spouse” roles suggests potential gender\n",
        "imbalances in how income-earning is reported within households.\n",
        "\n",
        "`race`"
      ],
      "id": "2c8bccba-cb22-4719-bf73-7a262b865a41"
    },
    {
      "cell_type": "code",
      "execution_count": 13,
      "metadata": {},
      "outputs": [],
      "source": [
        "adult_df['race'].value_counts(normalize=True).rename_axis('unique values').reset_index(name='proportion')"
      ],
      "id": "64e2cb6e-9e60-45c9-8b4e-28128ca0f459"
    },
    {
      "cell_type": "markdown",
      "metadata": {},
      "source": [
        "The dataset is overwhelmingly composed of White individuals (~85.4%).\n",
        "Other racial groups include Black (9.6%), Asian or Pacific Islander\n",
        "(3.2%), American Indian or Eskimo (1.0%), and Other (0.8%). The racial\n",
        "imbalance limits the generalizability of models trained on this data.\n",
        "Smaller racial groups may suffer from limited statistical power,\n",
        "affecting fairness and performance in predictive modeling.\n",
        "\n",
        "`sex`"
      ],
      "id": "8d3d719c-3daf-4807-a6fc-60bdf2682c80"
    },
    {
      "cell_type": "code",
      "execution_count": 14,
      "metadata": {},
      "outputs": [],
      "source": [
        "adult_df['sex'].value_counts(normalize=True).rename_axis('unique values').reset_index(name='proportion')"
      ],
      "id": "2b4f5b80-75f4-4c3d-9e82-b7374993f51e"
    },
    {
      "cell_type": "markdown",
      "metadata": {},
      "source": [
        "Males constitute 66.9% of the dataset, with females making up the\n",
        "remaining 33.1%. This male-skewed distribution could be due to sampling\n",
        "(e.g., primary earners in households), workforce participation patterns,\n",
        "or reporting biases.\n",
        "\n",
        "`education_level`"
      ],
      "id": "ce076521-7bde-423e-a99f-61fb45cc7aeb"
    },
    {
      "cell_type": "code",
      "execution_count": 15,
      "metadata": {},
      "outputs": [],
      "source": [
        "adult_df['education_level'].value_counts(normalize=True).rename_axis('unique values').reset_index(name='proportion')"
      ],
      "id": "66f4814e-a76f-4a67-aab0-24b94fe1b76c"
    },
    {
      "cell_type": "markdown",
      "metadata": {},
      "source": [
        "Secondary-school graduates form the largest educational group (~32%),\n",
        "highlighting the central role of high school completion in the labor\n",
        "force. Tertiary education holders — those with university or equivalent\n",
        "degrees — account for nearly 25% of the population, representing a\n",
        "substantial segment with advanced qualifications. A notable 22.4% have\n",
        "attended some college without necessarily earning a degree, suggesting\n",
        "that partial post-secondary education is common, yet may not always\n",
        "translate into formal certification. The remaining 20% are distributed\n",
        "among those with only secondary education (9.4%), associate degrees\n",
        "(7.5%), primary school (3.5%), and a very small group with only\n",
        "preschool education (0.15%). It is ecident that the education\n",
        "distribution is skewed toward mid- to high-level education, with\n",
        "relatively few individuals having only basic schooling. This reflects a\n",
        "dataset that largely captures working-age adults in formal labor, which\n",
        "may underrepresent the least-educated populations.\n",
        "\n",
        "`occupation_grouped`"
      ],
      "id": "133e9fa2-8ac3-46f0-995d-41ed74fb8223"
    },
    {
      "cell_type": "code",
      "execution_count": 16,
      "metadata": {},
      "outputs": [],
      "source": [
        "adult_df['occupation_grouped'].value_counts(normalize=True).rename_axis('unique values').reset_index(name='proportion')"
      ],
      "id": "d629debd-9b0b-4bcd-868e-4afc096c42f2"
    },
    {
      "cell_type": "markdown",
      "metadata": {},
      "source": [
        "White-collar occupations are the most prevalent (~51%), followed by\n",
        "blue-collar, service, and unknown. Smaller categories include military,\n",
        "which is marginal. Essentially, slightly over half of individuals in the\n",
        "dataset work in professional, managerial, sales, clerical, or\n",
        "tech-support roles. This suggests the dataset is heavily weighted toward\n",
        "professional and administrative occupations. Nearly a third of the\n",
        "population works in manual labor or skilled trade positions (craft,\n",
        "transport, machine operation, farming, etc.). This indicates a\n",
        "significant segment engaged in physically intensive or technical labor.\n",
        "\n",
        "`native_region`"
      ],
      "id": "4080e19d-bcaa-4e79-bf24-ab51b4e41891"
    },
    {
      "cell_type": "code",
      "execution_count": 17,
      "metadata": {},
      "outputs": [],
      "source": [
        "adult_df['native_region'].value_counts(normalize=True).rename_axis('unique values').reset_index(name='proportion')"
      ],
      "id": "bb104b4d-63d0-4ac4-8efc-6d7030bf7705"
    },
    {
      "cell_type": "markdown",
      "metadata": {},
      "source": [
        "The vast majority of individuals are from North America (~92.3%).\n",
        "Smaller proportions are from Central America, Asia, Europe, South\n",
        "America, and a generic Other category. The heavy concentration of North\n",
        "American individuals reflects the U.S. focus of the dataset.\n",
        "\n",
        "`age_group`"
      ],
      "id": "2b2bd63c-5487-440d-8fb9-33664356fba5"
    },
    {
      "cell_type": "code",
      "execution_count": 18,
      "metadata": {},
      "outputs": [],
      "source": [
        "adult_df['age_group'].value_counts(normalize=True).rename_axis('unique values').reset_index(name='proportion')"
      ],
      "id": "49f95dc1-d475-42ff-9740-f7c2afbd30eb"
    },
    {
      "cell_type": "markdown",
      "metadata": {},
      "source": [
        "The largest groups are 26–35 and 36–45, followed by 46–60. These three\n",
        "age groups represent about 73% of the dataset. Very few individuals are\n",
        "under 18 or above 75, consistent with the dataset’s focus on the\n",
        "working-age population.\n",
        "\n",
        "## Income Distribution\n",
        "\n",
        "Given that `income` is the target variable, most of the analysis\n",
        "hereafter will be based on it. We first of all examine the income\n",
        "distribution in the dataset."
      ],
      "id": "76405eee-a331-4799-879a-f05ed06bd3cd"
    },
    {
      "cell_type": "code",
      "execution_count": 20,
      "metadata": {},
      "outputs": [
        {
          "output_type": "display_data",
          "metadata": {},
          "data": {
            "text/html": [
              "        <script type=\"text/javascript\">\n",
              "        window.PlotlyConfig = {MathJaxConfig: 'local'};\n",
              "        if (window.MathJax && window.MathJax.Hub && window.MathJax.Hub.Config) {window.MathJax.Hub.Config({SVG: {font: \"STIX-Web\"}});}\n",
              "        </script>\n",
              "        <script type=\"module\">import \"https://cdn.plot.ly/plotly-3.0.1.min\"</script>\n",
              "        "
            ]
          }
        },
        {
          "output_type": "display_data",
          "metadata": {},
          "data": {
            "text/html": [
              "<div>            <script src=\"https://cdnjs.cloudflare.com/ajax/libs/mathjax/2.7.5/MathJax.js?config=TeX-AMS-MML_SVG\"></script><script type=\"text/javascript\">if (window.MathJax && window.MathJax.Hub && window.MathJax.Hub.Config) {window.MathJax.Hub.Config({SVG: {font: \"STIX-Web\"}});}</script>                <script type=\"text/javascript\">window.PlotlyConfig = {MathJaxConfig: 'local'};</script>\n",
              "        <script charset=\"utf-8\" src=\"https://cdn.plot.ly/plotly-3.0.1.min.js\"></script>                <div id=\"41d7e80b-25e7-418f-9469-2da7e4d85b56\" class=\"plotly-graph-div\" style=\"height:525px; width:100%;\"></div>            <script type=\"text/javascript\">                window.PLOTLYENV=window.PLOTLYENV || {};                                if (document.getElementById(\"41d7e80b-25e7-418f-9469-2da7e4d85b56\")) {                    Plotly.newPlot(                        \"41d7e80b-25e7-418f-9469-2da7e4d85b56\",                        [{\"domain\":{\"x\":[0.0,1.0],\"y\":[0.0,1.0]},\"hovertemplate\":\"income=%{label}\\u003cbr\\u003etotal=%{value}\\u003cextra\\u003e\\u003c\\u002fextra\\u003e\",\"labels\":[\"\\u003c=50k\",\"\\u003e50k\"],\"legendgroup\":\"\",\"name\":\"\",\"showlegend\":true,\"values\":{\"dtype\":\"i2\",\"bdata\":\"ZWCcHg==\"},\"type\":\"pie\"}],                        {\"template\":{\"data\":{\"pie\":[{\"automargin\":true,\"type\":\"pie\"}],\"scatter3d\":[{\"line\":{\"width\":3},\"marker\":{\"size\":9},\"type\":\"scatter3d\"}],\"scattergeo\":[{\"line\":{\"width\":3},\"marker\":{\"size\":9},\"type\":\"scattergeo\"}],\"scattergl\":[{\"line\":{\"width\":3},\"marker\":{\"size\":9},\"type\":\"scattergl\"}],\"scatterpolargl\":[{\"line\":{\"width\":3},\"marker\":{\"size\":9},\"type\":\"scatterpolargl\"}],\"scatterpolar\":[{\"line\":{\"width\":3},\"marker\":{\"size\":9},\"type\":\"scatterpolar\"}],\"scatter\":[{\"line\":{\"width\":3},\"marker\":{\"size\":9},\"type\":\"scatter\"}],\"scatterternary\":[{\"line\":{\"width\":3},\"marker\":{\"size\":9},\"type\":\"scatterternary\"}],\"table\":[{\"cells\":{\"height\":30},\"header\":{\"height\":36},\"type\":\"table\"}]},\"layout\":{\"font\":{\"size\":18},\"margin\":{\"b\":0,\"l\":0,\"r\":0,\"t\":30},\"xaxis\":{\"title\":{\"standoff\":15}},\"yaxis\":{\"title\":{\"standoff\":15}}}},\"legend\":{\"tracegroupgap\":0,\"title\":{\"text\":\"Income Level\"}},\"title\":{\"text\":\"Overall Income Distribution\"},\"piecolorway\":[\"rgb(103,0,31)\",\"rgb(178,24,43)\",\"rgb(214,96,77)\",\"rgb(244,165,130)\",\"rgb(253,219,199)\",\"rgb(247,247,247)\",\"rgb(209,229,240)\",\"rgb(146,197,222)\",\"rgb(67,147,195)\",\"rgb(33,102,172)\",\"rgb(5,48,97)\"],\"paper_bgcolor\":\"rgba(0, 0, 0, 0)\",\"plot_bgcolor\":\"rgba(0, 0, 0, 0)\"},                        {\"responsive\": true}                    ).then(function(){\n",
              "                            \n",
              "var gd = document.getElementById('41d7e80b-25e7-418f-9469-2da7e4d85b56');\n",
              "var x = new MutationObserver(function (mutations, observer) {{\n",
              "        var display = window.getComputedStyle(gd).display;\n",
              "        if (!display || display === 'none') {{\n",
              "            console.log([gd, 'removed!']);\n",
              "            Plotly.purge(gd);\n",
              "            observer.disconnect();\n",
              "        }}\n",
              "}});\n",
              "\n",
              "// Listen for the removal of the full notebook cells\n",
              "var notebookContainer = gd.closest('#notebook-container');\n",
              "if (notebookContainer) {{\n",
              "    x.observe(notebookContainer, {childList: true});\n",
              "}}\n",
              "\n",
              "// Listen for the clearing of the current output cell\n",
              "var outputEl = gd.closest('.output');\n",
              "if (outputEl) {{\n",
              "    x.observe(outputEl, {childList: true});\n",
              "}}\n",
              "\n",
              "                        })                };            </script>        </div>"
            ]
          }
        }
      ],
      "source": [
        "fig = px.pie(adult_df_income, names='income', values='total', title='Overall Income Distribution', color_discrete_sequence=px.colors.sequential.RdBu)\n",
        "fig.update_layout(template=\"presentation\", legend_title=dict(text='Income Level'), paper_bgcolor = \"rgba(0, 0, 0, 0)\", plot_bgcolor = \"rgba(0, 0, 0, 0)\")\n",
        "fig.show()\n",
        "fig.write_image(os.path.join(results_dir, 'income_distribution_pie_chart.jpg'))\n",
        "fig.write_image(os.path.join(results_dir, 'income_distribution_pie_chart.png'))\n",
        "fig.write_html(os.path.join(results_dir, 'income_distribution_pie_chart.html'))"
      ],
      "id": "01f186fe"
    },
    {
      "cell_type": "markdown",
      "metadata": {},
      "source": [
        "This pie chart visualizes the overall income split: 76% of individuals\n",
        "earn ≤50K, while 24% earn \\>50K. This means that nearly 3 out of 4\n",
        "individuals fall into the lower income bracket (\\<=50K). This shows that\n",
        "there is a significant imbalance.\n",
        "\n",
        "## Income by Age Group"
      ],
      "id": "03cff897-18f4-4a17-a39b-09be2a5cd6c1"
    },
    {
      "cell_type": "code",
      "execution_count": 23,
      "metadata": {},
      "outputs": [
        {
          "output_type": "display_data",
          "metadata": {},
          "data": {
            "text/html": [
              "<div>            <script src=\"https://cdnjs.cloudflare.com/ajax/libs/mathjax/2.7.5/MathJax.js?config=TeX-AMS-MML_SVG\"></script><script type=\"text/javascript\">if (window.MathJax && window.MathJax.Hub && window.MathJax.Hub.Config) {window.MathJax.Hub.Config({SVG: {font: \"STIX-Web\"}});}</script>                <script type=\"text/javascript\">window.PlotlyConfig = {MathJaxConfig: 'local'};</script>\n",
              "        <script charset=\"utf-8\" src=\"https://cdn.plot.ly/plotly-3.0.1.min.js\"></script>                <div id=\"1f7b6076-e98a-491c-b4c6-d8f5b63628e5\" class=\"plotly-graph-div\" style=\"height:600px; width:1000px;\"></div>            <script type=\"text/javascript\">                window.PLOTLYENV=window.PLOTLYENV || {};                                if (document.getElementById(\"1f7b6076-e98a-491c-b4c6-d8f5b63628e5\")) {                    Plotly.newPlot(                        \"1f7b6076-e98a-491c-b4c6-d8f5b63628e5\",                        [{\"alignmentgroup\":\"True\",\"hovertemplate\":\"income=\\u003c=50k\\u003cbr\\u003eage_group=%{x}\\u003cbr\\u003epercentage=%{text}\\u003cextra\\u003e\\u003c\\u002fextra\\u003e\",\"legendgroup\":\"\\u003c=50k\",\"marker\":{\"color\":\"rgb(103,0,31)\",\"pattern\":{\"shape\":\"\"}},\"name\":\"\\u003c=50k\",\"offsetgroup\":\"\\u003c=50k\",\"orientation\":\"v\",\"showlegend\":true,\"text\":{\"dtype\":\"f8\",\"bdata\":\"g\\u002fJoAQ56WEB+KiklNlJUQJa09CB6V1BAr9\\u002fcMoW6TkDkLgOy9uNSQFZVVVVV1VRAAAAAAAAAWUA=\"},\"textposition\":\"outside\",\"x\":[\"18-25\",\"26-35\",\"36-45\",\"46-60\",\"61-75\",\"76+\",\"\\u003c18\"],\"xaxis\":\"x\",\"y\":{\"dtype\":\"f8\",\"bdata\":\"g\\u002fJoAQ56WEB+KiklNlJUQJa09CB6V1BAr9\\u002fcMoW6TkDkLgOy9uNSQFZVVVVV1VRAAAAAAAAAWUA=\"},\"yaxis\":\"y\",\"type\":\"bar\",\"texttemplate\":\"%{text:.2f}%\"},{\"alignmentgroup\":\"True\",\"hovertemplate\":\"income=\\u003e50k\\u003cbr\\u003eage_group=%{x}\\u003cbr\\u003epercentage=%{text}\\u003cextra\\u003e\\u003c\\u002fextra\\u003e\",\"legendgroup\":\"\\u003e50k\",\"marker\":{\"color\":\"rgb(178,24,43)\",\"pattern\":{\"shape\":\"\"}},\"name\":\"\\u003e50k\",\"offsetgroup\":\"\\u003e50k\",\"orientation\":\"v\",\"showlegend\":true,\"text\":{\"dtype\":\"f8\",\"bdata\":\"oq\\u002fh0j++AEAJVltrJ7cyQNWWFr4LUUFAUSAjzXpFQ0BwRPM3JXA4QKqqqqqqqjBA\"},\"textposition\":\"outside\",\"x\":[\"18-25\",\"26-35\",\"36-45\",\"46-60\",\"61-75\",\"76+\"],\"xaxis\":\"x\",\"y\":{\"dtype\":\"f8\",\"bdata\":\"oq\\u002fh0j++AEAJVltrJ7cyQNWWFr4LUUFAUSAjzXpFQ0BwRPM3JXA4QKqqqqqqqjBA\"},\"yaxis\":\"y\",\"type\":\"bar\",\"texttemplate\":\"%{text:.2f}%\"}],                        {\"template\":{\"data\":{\"pie\":[{\"automargin\":true,\"type\":\"pie\"}],\"scatter3d\":[{\"line\":{\"width\":3},\"marker\":{\"size\":9},\"type\":\"scatter3d\"}],\"scattergeo\":[{\"line\":{\"width\":3},\"marker\":{\"size\":9},\"type\":\"scattergeo\"}],\"scattergl\":[{\"line\":{\"width\":3},\"marker\":{\"size\":9},\"type\":\"scattergl\"}],\"scatterpolargl\":[{\"line\":{\"width\":3},\"marker\":{\"size\":9},\"type\":\"scatterpolargl\"}],\"scatterpolar\":[{\"line\":{\"width\":3},\"marker\":{\"size\":9},\"type\":\"scatterpolar\"}],\"scatter\":[{\"line\":{\"width\":3},\"marker\":{\"size\":9},\"type\":\"scatter\"}],\"scatterternary\":[{\"line\":{\"width\":3},\"marker\":{\"size\":9},\"type\":\"scatterternary\"}],\"table\":[{\"cells\":{\"height\":30},\"header\":{\"height\":36},\"type\":\"table\"}]},\"layout\":{\"font\":{\"size\":18},\"margin\":{\"b\":0,\"l\":0,\"r\":0,\"t\":30},\"xaxis\":{\"title\":{\"standoff\":15}},\"yaxis\":{\"title\":{\"standoff\":15}}}},\"xaxis\":{\"anchor\":\"y\",\"domain\":[0.0,1.0],\"title\":{\"text\":\"Age Group\"}},\"yaxis\":{\"anchor\":\"x\",\"domain\":[0.0,1.0],\"title\":{\"text\":\"Percentage of population\"}},\"legend\":{\"title\":{\"text\":\"Income Level\"},\"tracegroupgap\":0},\"title\":{\"text\":\"Income Distribution by Age Group (%)\"},\"barmode\":\"group\",\"height\":600,\"width\":1000,\"margin\":{\"l\":100,\"r\":50,\"t\":50,\"b\":150},\"paper_bgcolor\":\"rgba(0, 0, 0, 0)\",\"plot_bgcolor\":\"rgba(0, 0, 0, 0)\"},                        {\"responsive\": true}                    ).then(function(){\n",
              "                            \n",
              "var gd = document.getElementById('1f7b6076-e98a-491c-b4c6-d8f5b63628e5');\n",
              "var x = new MutationObserver(function (mutations, observer) {{\n",
              "        var display = window.getComputedStyle(gd).display;\n",
              "        if (!display || display === 'none') {{\n",
              "            console.log([gd, 'removed!']);\n",
              "            Plotly.purge(gd);\n",
              "            observer.disconnect();\n",
              "        }}\n",
              "}});\n",
              "\n",
              "// Listen for the removal of the full notebook cells\n",
              "var notebookContainer = gd.closest('#notebook-container');\n",
              "if (notebookContainer) {{\n",
              "    x.observe(notebookContainer, {childList: true});\n",
              "}}\n",
              "\n",
              "// Listen for the clearing of the current output cell\n",
              "var outputEl = gd.closest('.output');\n",
              "if (outputEl) {{\n",
              "    x.observe(outputEl, {childList: true});\n",
              "}}\n",
              "\n",
              "                        })                };            </script>        </div>"
            ]
          }
        }
      ],
      "source": [
        "fig = px.bar(\n",
        "    adult_df_income_age,\n",
        "    x = 'age_group',\n",
        "    y = 'percentage',\n",
        "    color = 'income',\n",
        "    title = 'Income Distribution by Age Group (%)',\n",
        "    barmode = 'group', \n",
        "    height = 600,\n",
        "    width=1000,\n",
        "    color_discrete_sequence=px.colors.sequential.RdBu,\n",
        "    text= 'percentage'\n",
        ")\n",
        "fig.update_traces(texttemplate='%{text:.2f}%', textposition='outside')\n",
        "fig.update_layout(template=\"presentation\", xaxis_title='Age Group', margin=dict(l=100, r=50, t=50, b=150),\n",
        "                  yaxis_title='Percentage of population', legend_title=dict(text='Income Level'),\n",
        "                  paper_bgcolor = \"rgba(0, 0, 0, 0)\", plot_bgcolor = \"rgba(0, 0, 0, 0)\")\n",
        "fig.show()\n",
        "fig.write_image(os.path.join(results_dir, 'income_distribution_by_agegroup_bar_plot.jpg'))\n",
        "fig.write_image(os.path.join(results_dir, 'income_distribution_by_agegroup_bar_plot.png'))\n",
        "fig.write_html(os.path.join(results_dir, 'income_distribution_by_agegroup_bar_plot.html'))"
      ],
      "id": "25f5b9bb"
    },
    {
      "cell_type": "markdown",
      "metadata": {},
      "source": [
        "The bar chart visualizes the income distribution across age groups,\n",
        "using percentages within each group. There is an evident pattern in\n",
        "terms of income progression over the years with a gradual increase in\n",
        "terms of the number of people earning \\>50K starting from 0 amongst\n",
        "those aged 18 and below, peaking between 36 and 60 years, then declining\n",
        "after 60 years but not to zero.\n",
        "\n",
        "All individuals under 18 earn \\<=50K, likely due to being students,\n",
        "minors, or ineligible for full-time employment. Extremely few young\n",
        "adults (2.1%) exceed 50K, as most are early in their careers, pursuing\n",
        "education, or in entry-level jobs. For the 26-35 age group, there’s a\n",
        "noticeable improvement — roughly 1 in 5 individuals in this group earn\n",
        "\\>50K, reflecting early career progression and accumulation of\n",
        "qualifications/experience. A substantial income increase is seen in the\n",
        "36-45 age group: over a third now earn \\>50K. This is typically\n",
        "considered prime earning age where individuals settle into stable,\n",
        "higher-paying positions. Highest proportion of \\>50K earners is seen\n",
        "amongst individuals aged between 46 and 60— nearly 4 in 10. This\n",
        "reflects career maturity, peak seniority levels, and accumulated\n",
        "experience. There’s a drop-off in high incomes as many transition to\n",
        "retirement, part-time, or less demanding roles in the age group 61-75.\n",
        "Yet about 1 in 4 still earn \\>50K. Most in 76+ age group earn \\<=50K,\n",
        "likely due to retirement, pensions, or fixed incomes — but a small\n",
        "minority still earn higher incomes, possibly through continued work or\n",
        "investments.\n",
        "\n",
        "## Income by Native Region"
      ],
      "id": "bf80a75e-cc91-430d-b5c7-be7fa6e02cb8"
    },
    {
      "cell_type": "code",
      "execution_count": 26,
      "metadata": {},
      "outputs": [
        {
          "output_type": "display_data",
          "metadata": {},
          "data": {
            "text/html": [
              "<div>            <script src=\"https://cdnjs.cloudflare.com/ajax/libs/mathjax/2.7.5/MathJax.js?config=TeX-AMS-MML_SVG\"></script><script type=\"text/javascript\">if (window.MathJax && window.MathJax.Hub && window.MathJax.Hub.Config) {window.MathJax.Hub.Config({SVG: {font: \"STIX-Web\"}});}</script>                <script type=\"text/javascript\">window.PlotlyConfig = {MathJaxConfig: 'local'};</script>\n",
              "        <script charset=\"utf-8\" src=\"https://cdn.plot.ly/plotly-3.0.1.min.js\"></script>                <div id=\"471381fb-1a8a-4f97-83c6-86156d7f2665\" class=\"plotly-graph-div\" style=\"height:600px; width:1000px;\"></div>            <script type=\"text/javascript\">                window.PLOTLYENV=window.PLOTLYENV || {};                                if (document.getElementById(\"471381fb-1a8a-4f97-83c6-86156d7f2665\")) {                    Plotly.newPlot(                        \"471381fb-1a8a-4f97-83c6-86156d7f2665\",                        [{\"alignmentgroup\":\"True\",\"hovertemplate\":\"income=\\u003c=50k\\u003cbr\\u003enative_region=%{x}\\u003cbr\\u003epercentage=%{text}\\u003cextra\\u003e\\u003c\\u002fextra\\u003e\",\"legendgroup\":\"\\u003c=50k\",\"marker\":{\"color\":\"rgb(103,0,31)\",\"pattern\":{\"shape\":\"\"}},\"name\":\"\\u003c=50k\",\"offsetgroup\":\"\\u003c=50k\",\"orientation\":\"v\",\"showlegend\":true,\"text\":{\"dtype\":\"f8\",\"bdata\":\"lsrz3ytTUUCPvbVhmjtWQB6kok3StFFAO9RFwkL2UkC3+psGvbdSQPjggw8++FVA\"},\"textposition\":\"outside\",\"x\":[\"asia\",\"central america\",\"europe\",\"north america\",\"other\",\"south america\"],\"xaxis\":\"x\",\"y\":{\"dtype\":\"f8\",\"bdata\":\"lsrz3ytTUUCPvbVhmjtWQB6kok3StFFAO9RFwkL2UkC3+psGvbdSQPjggw8++FVA\"},\"yaxis\":\"y\",\"type\":\"bar\",\"texttemplate\":\"%{text:.2f}%\"},{\"alignmentgroup\":\"True\",\"hovertemplate\":\"income=\\u003e50k\\u003cbr\\u003enative_region=%{x}\\u003cbr\\u003epercentage=%{text}\\u003cextra\\u003e\\u003c\\u002fextra\\u003e\",\"legendgroup\":\"\\u003e50k\",\"marker\":{\"color\":\"rgb(178,24,43)\",\"pattern\":{\"shape\":\"\"}},\"name\":\"\\u003e50k\",\"offsetgroup\":\"\\u003e50k\",\"orientation\":\"v\",\"showlegend\":true,\"text\":{\"dtype\":\"f8\",\"bdata\":\"ptUwgFCzPkCLE1LyLCMmQIpvdcm2LD1AEa\\u002fo9vQmOEAnFZDlCyE5QD744IMPPihA\"},\"textposition\":\"outside\",\"x\":[\"asia\",\"central america\",\"europe\",\"north america\",\"other\",\"south america\"],\"xaxis\":\"x\",\"y\":{\"dtype\":\"f8\",\"bdata\":\"ptUwgFCzPkCLE1LyLCMmQIpvdcm2LD1AEa\\u002fo9vQmOEAnFZDlCyE5QD744IMPPihA\"},\"yaxis\":\"y\",\"type\":\"bar\",\"texttemplate\":\"%{text:.2f}%\"}],                        {\"template\":{\"data\":{\"pie\":[{\"automargin\":true,\"type\":\"pie\"}],\"scatter3d\":[{\"line\":{\"width\":3},\"marker\":{\"size\":9},\"type\":\"scatter3d\"}],\"scattergeo\":[{\"line\":{\"width\":3},\"marker\":{\"size\":9},\"type\":\"scattergeo\"}],\"scattergl\":[{\"line\":{\"width\":3},\"marker\":{\"size\":9},\"type\":\"scattergl\"}],\"scatterpolargl\":[{\"line\":{\"width\":3},\"marker\":{\"size\":9},\"type\":\"scatterpolargl\"}],\"scatterpolar\":[{\"line\":{\"width\":3},\"marker\":{\"size\":9},\"type\":\"scatterpolar\"}],\"scatter\":[{\"line\":{\"width\":3},\"marker\":{\"size\":9},\"type\":\"scatter\"}],\"scatterternary\":[{\"line\":{\"width\":3},\"marker\":{\"size\":9},\"type\":\"scatterternary\"}],\"table\":[{\"cells\":{\"height\":30},\"header\":{\"height\":36},\"type\":\"table\"}]},\"layout\":{\"font\":{\"size\":18},\"margin\":{\"b\":0,\"l\":0,\"r\":0,\"t\":30},\"xaxis\":{\"title\":{\"standoff\":15}},\"yaxis\":{\"title\":{\"standoff\":15}}}},\"xaxis\":{\"anchor\":\"y\",\"domain\":[0.0,1.0],\"title\":{\"text\":\"Native Region\",\"standoff\":50}},\"yaxis\":{\"anchor\":\"x\",\"domain\":[0.0,1.0],\"title\":{\"text\":\"Percentage of population\"}},\"legend\":{\"title\":{\"text\":\"Income Level\"},\"tracegroupgap\":0},\"title\":{\"text\":\"Income Distribution by Native Region (%)\"},\"barmode\":\"group\",\"height\":600,\"width\":1000,\"margin\":{\"l\":100,\"r\":50,\"t\":50,\"b\":150},\"paper_bgcolor\":\"rgba(0, 0, 0, 0)\",\"plot_bgcolor\":\"rgba(0, 0, 0, 0)\"},                        {\"responsive\": true}                    ).then(function(){\n",
              "                            \n",
              "var gd = document.getElementById('471381fb-1a8a-4f97-83c6-86156d7f2665');\n",
              "var x = new MutationObserver(function (mutations, observer) {{\n",
              "        var display = window.getComputedStyle(gd).display;\n",
              "        if (!display || display === 'none') {{\n",
              "            console.log([gd, 'removed!']);\n",
              "            Plotly.purge(gd);\n",
              "            observer.disconnect();\n",
              "        }}\n",
              "}});\n",
              "\n",
              "// Listen for the removal of the full notebook cells\n",
              "var notebookContainer = gd.closest('#notebook-container');\n",
              "if (notebookContainer) {{\n",
              "    x.observe(notebookContainer, {childList: true});\n",
              "}}\n",
              "\n",
              "// Listen for the clearing of the current output cell\n",
              "var outputEl = gd.closest('.output');\n",
              "if (outputEl) {{\n",
              "    x.observe(outputEl, {childList: true});\n",
              "}}\n",
              "\n",
              "                        })                };            </script>        </div>"
            ]
          }
        }
      ],
      "source": [
        "fig = px.bar(\n",
        "    adult_df_income_reg,\n",
        "    x = 'native_region',\n",
        "    y = 'percentage',\n",
        "    color = 'income',\n",
        "    title = 'Income Distribution by Native Region (%)',\n",
        "    barmode = 'group', \n",
        "    height = 600,\n",
        "    width=1000,\n",
        "    color_discrete_sequence=px.colors.sequential.RdBu,\n",
        "    text= 'percentage'\n",
        ")\n",
        "fig.update_traces(texttemplate='%{text:.2f}%', textposition='outside')\n",
        "fig.update_layout(template=\"presentation\", xaxis_title='Native Region', yaxis_title='Percentage of population', margin=dict(l=100, r=50, t=50, b=150), legend_title=dict(text='Income Level'),\n",
        "                  xaxis_title_standoff=50, paper_bgcolor = \"rgba(0, 0, 0, 0)\", plot_bgcolor = \"rgba(0, 0, 0, 0)\")\n",
        "fig.show()\n",
        "fig.write_image(os.path.join(results_dir, 'income_distribution_by_nativeregion_bar_plot.jpg'))\n",
        "fig.write_image(os.path.join(results_dir, 'income_distribution_by_nativeregion_bar_plot.png'))\n",
        "fig.write_html(os.path.join(results_dir, 'income_distribution_by_nativeregion_bar_plot.html'))"
      ],
      "id": "16591ed3"
    },
    {
      "cell_type": "markdown",
      "metadata": {},
      "source": [
        "Asia (30.7%) and Europe (29.2%) have the highest proportions of\n",
        "high-income earners. This suggests these immigrant groups might be\n",
        "better integrated into high-paying professional roles, or may represent\n",
        "a more skilled migrant profile in the dataset. Central America (11.1%)\n",
        "and South America (12.1%) have the lowest proportions of \\>50K earners.\n",
        "With 24.2% of North Americans earning \\>50K, this serves as a\n",
        "middle-ground baseline. Interestingly, both Asian and European groups\n",
        "outperform the native-born population proportionally in high-income\n",
        "brackets. The ‘Other’ group sits around 25.1%, close to North America’s\n",
        "rate. This likely reflects a diverse mix of regions not explicitly\n",
        "listed.\n",
        "\n",
        "## Income by Race"
      ],
      "id": "c11205e9-c408-4888-8076-f820fd1e7306"
    },
    {
      "cell_type": "code",
      "execution_count": 29,
      "metadata": {},
      "outputs": [
        {
          "output_type": "display_data",
          "metadata": {},
          "data": {
            "text/html": [
              "<div>            <script src=\"https://cdnjs.cloudflare.com/ajax/libs/mathjax/2.7.5/MathJax.js?config=TeX-AMS-MML_SVG\"></script><script type=\"text/javascript\">if (window.MathJax && window.MathJax.Hub && window.MathJax.Hub.Config) {window.MathJax.Hub.Config({SVG: {font: \"STIX-Web\"}});}</script>                <script type=\"text/javascript\">window.PlotlyConfig = {MathJaxConfig: 'local'};</script>\n",
              "        <script charset=\"utf-8\" src=\"https://cdn.plot.ly/plotly-3.0.1.min.js\"></script>                <div id=\"368b50f4-1b9f-4ac3-b9bc-c1b32f6af7d8\" class=\"plotly-graph-div\" style=\"height:700px; width:1000px;\"></div>            <script type=\"text/javascript\">                window.PLOTLYENV=window.PLOTLYENV || {};                                if (document.getElementById(\"368b50f4-1b9f-4ac3-b9bc-c1b32f6af7d8\")) {                    Plotly.newPlot(                        \"368b50f4-1b9f-4ac3-b9bc-c1b32f6af7d8\",                        [{\"alignmentgroup\":\"True\",\"hovertemplate\":\"income=\\u003c=50k\\u003cbr\\u003erace=%{x}\\u003cbr\\u003epercentage=%{text}\\u003cextra\\u003e\\u003c\\u002fextra\\u003e\",\"legendgroup\":\"\\u003c=50k\",\"marker\":{\"color\":\"rgb(103,0,31)\",\"pattern\":{\"shape\":\"\"}},\"name\":\"\\u003c=50k\",\"offsetgroup\":\"\\u003c=50k\",\"orientation\":\"v\",\"showlegend\":true,\"text\":{\"dtype\":\"f8\",\"bdata\":\"z6MP+ykbVkCH2cERRFpSQMgXx5Kp5lVAHO2rFpixVkDKVtvK\\u002fphSQA==\"},\"textposition\":\"outside\",\"x\":[\"american indian or eskimo\",\"asian or pacific islander\",\"black\",\"other\",\"white\"],\"xaxis\":\"x\",\"y\":{\"dtype\":\"f8\",\"bdata\":\"z6MP+ykbVkCH2cERRFpSQMgXx5Kp5lVAHO2rFpixVkDKVtvK\\u002fphSQA==\"},\"yaxis\":\"y\",\"type\":\"bar\",\"texttemplate\":\"%{text:.2f}%\"},{\"alignmentgroup\":\"True\",\"hovertemplate\":\"income=\\u003e50k\\u003cbr\\u003erace=%{x}\\u003cbr\\u003epercentage=%{text}\\u003cextra\\u003e\\u003c\\u002fextra\\u003e\",\"legendgroup\":\"\\u003e50k\",\"marker\":{\"color\":\"rgb(178,24,43)\",\"pattern\":{\"shape\":\"\"}},\"name\":\"\\u003e50k\",\"offsetgroup\":\"\\u003e50k\",\"orientation\":\"v\",\"showlegend\":true,\"text\":{\"dtype\":\"f8\",\"bdata\":\"i+GCJ7AmJ0Dlmfi475Y6QMNBx2mzyihAJZegSj9zIkDYpJLUBJw5QA==\"},\"textposition\":\"outside\",\"x\":[\"american indian or eskimo\",\"asian or pacific islander\",\"black\",\"other\",\"white\"],\"xaxis\":\"x\",\"y\":{\"dtype\":\"f8\",\"bdata\":\"i+GCJ7AmJ0Dlmfi475Y6QMNBx2mzyihAJZegSj9zIkDYpJLUBJw5QA==\"},\"yaxis\":\"y\",\"type\":\"bar\",\"texttemplate\":\"%{text:.2f}%\"}],                        {\"template\":{\"data\":{\"pie\":[{\"automargin\":true,\"type\":\"pie\"}],\"scatter3d\":[{\"line\":{\"width\":3},\"marker\":{\"size\":9},\"type\":\"scatter3d\"}],\"scattergeo\":[{\"line\":{\"width\":3},\"marker\":{\"size\":9},\"type\":\"scattergeo\"}],\"scattergl\":[{\"line\":{\"width\":3},\"marker\":{\"size\":9},\"type\":\"scattergl\"}],\"scatterpolargl\":[{\"line\":{\"width\":3},\"marker\":{\"size\":9},\"type\":\"scatterpolargl\"}],\"scatterpolar\":[{\"line\":{\"width\":3},\"marker\":{\"size\":9},\"type\":\"scatterpolar\"}],\"scatter\":[{\"line\":{\"width\":3},\"marker\":{\"size\":9},\"type\":\"scatter\"}],\"scatterternary\":[{\"line\":{\"width\":3},\"marker\":{\"size\":9},\"type\":\"scatterternary\"}],\"table\":[{\"cells\":{\"height\":30},\"header\":{\"height\":36},\"type\":\"table\"}]},\"layout\":{\"font\":{\"size\":18},\"margin\":{\"b\":0,\"l\":0,\"r\":0,\"t\":30},\"xaxis\":{\"title\":{\"standoff\":15}},\"yaxis\":{\"title\":{\"standoff\":15}}}},\"xaxis\":{\"anchor\":\"y\",\"domain\":[0.0,1.0],\"title\":{\"text\":\"Race\",\"standoff\":30}},\"yaxis\":{\"anchor\":\"x\",\"domain\":[0.0,1.0],\"title\":{\"text\":\"Percentage of population\"}},\"legend\":{\"title\":{\"text\":\"Income Level\"},\"tracegroupgap\":0},\"title\":{\"text\":\"Income Distribution by Race (%)\"},\"barmode\":\"group\",\"height\":700,\"width\":1000,\"margin\":{\"l\":60,\"r\":50,\"t\":50,\"b\":150},\"paper_bgcolor\":\"rgba(0, 0, 0, 0)\",\"plot_bgcolor\":\"rgba(0, 0, 0, 0)\"},                        {\"responsive\": true}                    ).then(function(){\n",
              "                            \n",
              "var gd = document.getElementById('368b50f4-1b9f-4ac3-b9bc-c1b32f6af7d8');\n",
              "var x = new MutationObserver(function (mutations, observer) {{\n",
              "        var display = window.getComputedStyle(gd).display;\n",
              "        if (!display || display === 'none') {{\n",
              "            console.log([gd, 'removed!']);\n",
              "            Plotly.purge(gd);\n",
              "            observer.disconnect();\n",
              "        }}\n",
              "}});\n",
              "\n",
              "// Listen for the removal of the full notebook cells\n",
              "var notebookContainer = gd.closest('#notebook-container');\n",
              "if (notebookContainer) {{\n",
              "    x.observe(notebookContainer, {childList: true});\n",
              "}}\n",
              "\n",
              "// Listen for the clearing of the current output cell\n",
              "var outputEl = gd.closest('.output');\n",
              "if (outputEl) {{\n",
              "    x.observe(outputEl, {childList: true});\n",
              "}}\n",
              "\n",
              "                        })                };            </script>        </div>"
            ]
          }
        }
      ],
      "source": [
        "fig = px.bar(\n",
        "    adult_df_income_race,\n",
        "    x = 'race',\n",
        "    y = 'percentage',\n",
        "    color = 'income',\n",
        "    title = 'Income Distribution by Race (%)',\n",
        "    barmode = 'group', \n",
        "    height = 700,\n",
        "    width=1000,\n",
        "    color_discrete_sequence=px.colors.sequential.RdBu,\n",
        "    text= 'percentage'\n",
        ")\n",
        "fig.update_traces(texttemplate='%{text:.2f}%', textposition='outside')\n",
        "fig.update_layout(template=\"presentation\", xaxis_title='Race', yaxis_title='Percentage of population', legend_title=dict(text='Income Level'),\n",
        "                  xaxis_title_standoff=30, margin=dict(l=60, r=50, t=50, b=150), paper_bgcolor = \"rgba(0, 0, 0, 0)\", plot_bgcolor = \"rgba(0, 0, 0, 0)\")\n",
        "fig.show()\n",
        "fig.write_image(os.path.join(results_dir, 'income_distribution_by_race_bar_plot.jpg'))\n",
        "fig.write_image(os.path.join(results_dir, 'income_distribution_by_race_bar_plot.png'))\n",
        "fig.write_html(os.path.join(results_dir, 'income_distribution_by_race_bar_plot.html'))"
      ],
      "id": "f11f843d"
    },
    {
      "cell_type": "markdown",
      "metadata": {},
      "source": [
        "Asian or Pacific Islander (26.6%) and White (25.6%) populations have the\n",
        "highest proportions of \\>50K earners. Asians/Pacific Islanders\n",
        "marginally outperform Whites, a pattern often attributed to occupational\n",
        "concentration in high-paying sectors like technology and medicine. On\n",
        "the other hand, American Indian or Eskimo (11.6%), Black (12.4%), and\n",
        "Other (9.2%) groups show significantly lower rates of high-income\n",
        "earners. These figures reflect long-standing economic disparities rooted\n",
        "in historical exclusion, occupational segregation, and systemic\n",
        "inequality.\n",
        "\n",
        "The stark differences in high-income proportions:\n",
        "\n",
        "-   **Between Whites and Blacks**: 25.6% vs 12.4% — slightly over double\n",
        "    the proportion.\n",
        "-   **Between Asians and Others**: 26.6% vs 9.2% — nearly triple.\n",
        "\n",
        "These disparities are consistent with well-documented wage gaps and\n",
        "underrepresentation of marginalized groups in higher-paying roles.\n",
        "\n",
        "## Income by Education Level and Occupation Group"
      ],
      "id": "7826590c-c13a-4515-9ea7-2dc7759a93e7"
    },
    {
      "cell_type": "code",
      "execution_count": 32,
      "metadata": {},
      "outputs": [
        {
          "output_type": "display_data",
          "metadata": {},
          "data": {
            "text/html": [
              "<div>            <script src=\"https://cdnjs.cloudflare.com/ajax/libs/mathjax/2.7.5/MathJax.js?config=TeX-AMS-MML_SVG\"></script><script type=\"text/javascript\">if (window.MathJax && window.MathJax.Hub && window.MathJax.Hub.Config) {window.MathJax.Hub.Config({SVG: {font: \"STIX-Web\"}});}</script>                <script type=\"text/javascript\">window.PlotlyConfig = {MathJaxConfig: 'local'};</script>\n",
              "        <script charset=\"utf-8\" src=\"https://cdn.plot.ly/plotly-3.0.1.min.js\"></script>                <div id=\"e9255d1f-2951-4d6b-8655-e52b54d3d4c1\" class=\"plotly-graph-div\" style=\"height:500px; width:1100px;\"></div>            <script type=\"text/javascript\">                window.PLOTLYENV=window.PLOTLYENV || {};                                if (document.getElementById(\"e9255d1f-2951-4d6b-8655-e52b54d3d4c1\")) {                    Plotly.newPlot(                        \"e9255d1f-2951-4d6b-8655-e52b54d3d4c1\",                        [{\"hovertemplate\":\"income=\\u003c=50k\\u003cbr\\u003etotal=%{text}\\u003cbr\\u003eedu_occ=%{y}\\u003cextra\\u003e\\u003c\\u002fextra\\u003e\",\"legendgroup\":\"\\u003c=50k\",\"marker\":{\"color\":\"rgb(103,0,31)\",\"pattern\":{\"shape\":\"\"}},\"name\":\"\\u003c=50k\",\"orientation\":\"h\",\"showlegend\":true,\"text\":{\"dtype\":\"f8\",\"bdata\":\"AAAAAAAQr0AAAAAAAFKqQAAAAAAAdqdAAAAAAACopkAAAAAAAHyXQAAAAAAAkJZAAAAAAAAUlUAAAAAAALiPQAAAAAAAMIxAAAAAAAC4hEAAAAAAANCDQA==\"},\"textposition\":\"inside\",\"x\":{\"dtype\":\"i2\",\"bdata\":\"iA8pDbsLVAvfBaQFRQX3A4YDlwJ6Ag==\"},\"xaxis\":\"x\",\"y\":[\"secondary-school graduate | blue collar\",\"tertiary | white collar\",\"some college | white collar\",\"secondary-school graduate | white collar\",\"some college | blue collar\",\"secondary-school graduate | service\",\"secondary | blue collar\",\"associate | white collar\",\"some college | service\",\"secondary | service\",\"primary | blue collar\"],\"yaxis\":\"y\",\"type\":\"bar\"},{\"hovertemplate\":\"income=\\u003e50k\\u003cbr\\u003etotal=%{text}\\u003cbr\\u003eedu_occ=%{y}\\u003cextra\\u003e\\u003c\\u002fextra\\u003e\",\"legendgroup\":\"\\u003e50k\",\"marker\":{\"color\":\"rgb(178,24,43)\",\"pattern\":{\"shape\":\"\"}},\"name\":\"\\u003e50k\",\"orientation\":\"h\",\"showlegend\":true,\"text\":{\"dtype\":\"f8\",\"bdata\":\"AAAAAACyq0AAAAAAANCKQAAAAAAA4IhAAAAAAADYhkA=\"},\"textposition\":\"inside\",\"x\":{\"dtype\":\"i2\",\"bdata\":\"2Q1aAxwD2wI=\"},\"xaxis\":\"x\",\"y\":[\"tertiary | white collar\",\"some college | white collar\",\"secondary-school graduate | blue collar\",\"secondary-school graduate | white collar\"],\"yaxis\":\"y\",\"type\":\"bar\"}],                        {\"template\":{\"data\":{\"pie\":[{\"automargin\":true,\"type\":\"pie\"}],\"scatter3d\":[{\"line\":{\"width\":3},\"marker\":{\"size\":9},\"type\":\"scatter3d\"}],\"scattergeo\":[{\"line\":{\"width\":3},\"marker\":{\"size\":9},\"type\":\"scattergeo\"}],\"scattergl\":[{\"line\":{\"width\":3},\"marker\":{\"size\":9},\"type\":\"scattergl\"}],\"scatterpolargl\":[{\"line\":{\"width\":3},\"marker\":{\"size\":9},\"type\":\"scatterpolargl\"}],\"scatterpolar\":[{\"line\":{\"width\":3},\"marker\":{\"size\":9},\"type\":\"scatterpolar\"}],\"scatter\":[{\"line\":{\"width\":3},\"marker\":{\"size\":9},\"type\":\"scatter\"}],\"scatterternary\":[{\"line\":{\"width\":3},\"marker\":{\"size\":9},\"type\":\"scatterternary\"}],\"table\":[{\"cells\":{\"height\":30},\"header\":{\"height\":36},\"type\":\"table\"}]},\"layout\":{\"font\":{\"size\":18},\"margin\":{\"b\":0,\"l\":0,\"r\":0,\"t\":30},\"xaxis\":{\"title\":{\"standoff\":15}},\"yaxis\":{\"title\":{\"standoff\":15}}}},\"xaxis\":{\"anchor\":\"y\",\"domain\":[0.0,1.0],\"title\":{\"text\":\"Number of Individuals\"}},\"yaxis\":{\"anchor\":\"x\",\"domain\":[0.0,1.0],\"title\":{\"text\":\"Education | Occupation Group\"}},\"legend\":{\"title\":{\"text\":\"Income Level\"},\"tracegroupgap\":0},\"title\":{\"text\":\"Top 15 Education and Occupation Groups Combinations by Income Group\"},\"barmode\":\"relative\",\"height\":500,\"width\":1100,\"margin\":{\"l\":450,\"r\":50,\"t\":50,\"b\":50},\"paper_bgcolor\":\"rgba(0, 0, 0, 0)\",\"plot_bgcolor\":\"rgba(0, 0, 0, 0)\"},                        {\"responsive\": true}                    ).then(function(){\n",
              "                            \n",
              "var gd = document.getElementById('e9255d1f-2951-4d6b-8655-e52b54d3d4c1');\n",
              "var x = new MutationObserver(function (mutations, observer) {{\n",
              "        var display = window.getComputedStyle(gd).display;\n",
              "        if (!display || display === 'none') {{\n",
              "            console.log([gd, 'removed!']);\n",
              "            Plotly.purge(gd);\n",
              "            observer.disconnect();\n",
              "        }}\n",
              "}});\n",
              "\n",
              "// Listen for the removal of the full notebook cells\n",
              "var notebookContainer = gd.closest('#notebook-container');\n",
              "if (notebookContainer) {{\n",
              "    x.observe(notebookContainer, {childList: true});\n",
              "}}\n",
              "\n",
              "// Listen for the clearing of the current output cell\n",
              "var outputEl = gd.closest('.output');\n",
              "if (outputEl) {{\n",
              "    x.observe(outputEl, {childList: true});\n",
              "}}\n",
              "\n",
              "                        })                };            </script>        </div>"
            ]
          }
        }
      ],
      "source": [
        "num = 15\n",
        "adult_df_combos = adult_df_income_edu_occ.head(num)\n",
        "fig = px.bar(\n",
        "    adult_df_combos,\n",
        "    x = 'total',\n",
        "    y = 'edu_occ',\n",
        "    color = 'income',\n",
        "    orientation = 'h',\n",
        "    title = f'Top {num} Education and Occupation Groups Combinations by Income Group',\n",
        "    # barmode = 'group', \n",
        "    height = 500,\n",
        "    width=1100,\n",
        "    color_discrete_sequence=px.colors.sequential.RdBu,\n",
        "    text = 'total'\n",
        ")\n",
        "fig.update_layout(template=\"presentation\", \n",
        "                  xaxis_title='Number of Individuals', \n",
        "                  yaxis_title='Education | Occupation Group', \n",
        "                  legend_title=dict(text='Income Level'),\n",
        "                  margin=dict(l=450, r=50, t=50, b=50),\n",
        "                  paper_bgcolor = \"rgba(0, 0, 0, 0)\", \n",
        "                  plot_bgcolor = \"rgba(0, 0, 0, 0)\")\n",
        "fig.update_traces(textposition='inside')\n",
        "fig.show()\n",
        "fig.write_image(os.path.join(results_dir, 'income_distribution_by_eduandocc_bar_plot.jpg'))\n",
        "fig.write_image(os.path.join(results_dir, 'income_distribution_by_eduandocc_bar_plot.png'))\n",
        "fig.write_html(os.path.join(results_dir, 'income_distribution_by_eduandocc_bar_plot.html'))"
      ],
      "id": "3cec7b6b"
    },
    {
      "cell_type": "markdown",
      "metadata": {},
      "source": [
        "From the bar chart, we can pick out the largest groups per income-level.\n",
        "We see that secondary-school graduates working a blue collar job occupy\n",
        "the largest group in the dataset (3976). This reflects a common\n",
        "socio-economic profile: individuals with basic schooling in manual or\n",
        "technical trades predominantly earning lower incomes. The largest\n",
        "high-income group are tertiary-educated individuals in white collar\n",
        "roles. This highlights the strong earning advantage conferred by higher\n",
        "education and skilled jobs.\n",
        "\n",
        "Some of the key patterns we can get from the dataset are:\n",
        "\n",
        "-   **Education matters, but isn’t deterministic**\n",
        "\n",
        "Tertiary education combined with white-collar work offers the highest\n",
        "income prospects. Yet a substantial number of tertiary-educated\n",
        "white-collar workers earn \\<=50K, likely early career, part-time, or\n",
        "structural pay gaps.\n",
        "\n",
        "-   **Blue-collar and service work predominantly pay \\<=50K, regardless\n",
        "    of education.**\n",
        "\n",
        "Even some college education doesn’t guarantee high incomes in these\n",
        "sectors. Manual and service sector income is highly occupation-dependent\n",
        "(some skilled trades can break the 50K mark).\n",
        "\n",
        "-   **Some non-tertiary education groups do reach \\>50K**\n",
        "\n",
        "Secondary-school graduates in blue-collar and white-collar work have\n",
        "decent representation among \\>50K earners. This reflects upward mobility\n",
        "possible through skilled trades, tenure, or niche roles."
      ],
      "id": "b6a56184-336c-4d5e-acbf-6bf9383a68af"
    }
  ],
  "nbformat": 4,
  "nbformat_minor": 5,
  "metadata": {
    "kernelspec": {
      "name": "python3",
      "display_name": "Python 3 (ipykernel)",
      "language": "python",
      "path": "C:"
    }
  }
}